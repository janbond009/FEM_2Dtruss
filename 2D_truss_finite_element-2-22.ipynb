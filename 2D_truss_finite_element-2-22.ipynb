{
 "cells": [
  {
   "cell_type": "code",
   "execution_count": 1,
   "metadata": {
    "id": "mu5Mk75AincD"
   },
   "outputs": [],
   "source": [
    "#import dependencies\n",
    "\n",
    "import numpy as np\n",
    "from math import sin\n",
    "from math import cos\n",
    "from math import pi"
   ]
  },
  {
   "cell_type": "code",
   "execution_count": 2,
   "metadata": {
    "id": "JLxMkhBZYAaM"
   },
   "outputs": [],
   "source": [
    "#create squared trigonometric function\n",
    "\n",
    "def cos2(rad):\n",
    "  cos2 = cos(rad)**2\n",
    "  return cos2\n",
    "\n",
    "def sin2(rad):\n",
    "  sin2 = sin(rad)**2\n",
    "  return sin2\n",
    "\n",
    "#create rotation matrix function\n",
    "\n",
    "def gen_rotation_matrix(rad):\n",
    "  rotation_matrix = np.array([[cos2(rad), sin(rad)*cos(rad), -cos2(rad), -sin(rad)*cos(rad)],\n",
    "                              [sin(rad)*cos(rad), sin2(rad), -sin(rad)*cos(rad), -sin2(rad)],\n",
    "                              [-cos2(rad), -sin(rad)*cos(rad), cos2(rad), sin(rad)*cos(rad)],\n",
    "                              [-sin(rad)*cos(rad), -sin2(rad), sin(rad)*cos(rad), sin2(rad)]])\n",
    "                     \n",
    "  return rotation_matrix"
   ]
  },
  {
   "cell_type": "code",
   "execution_count": 4,
   "metadata": {
    "colab": {
     "base_uri": "https://localhost:8080/"
    },
    "id": "nAEhWXXEkpcx",
    "outputId": "63689f76-416d-471b-b53f-27c360e1c47c"
   },
   "outputs": [
    {
     "name": "stdout",
     "output_type": "stream",
     "text": [
      "How many nodes?: 6\n",
      "How many elements?: 9\n"
     ]
    }
   ],
   "source": [
    "#get numbers of node and element from user\n",
    "\n",
    "n_node = int(input(\"How many nodes?: \"))\n",
    "n_element = int(input(\"How many elements?: \"))"
   ]
  },
  {
   "cell_type": "code",
   "execution_count": 5,
   "metadata": {
    "colab": {
     "base_uri": "https://localhost:8080/"
    },
    "id": "Wf3eJWPw4nc2",
    "outputId": "84a888c9-ba3d-46d7-c376-975af4429ded"
   },
   "outputs": [
    {
     "name": "stdout",
     "output_type": "stream",
     "text": [
      "node i for element 1: 1\n",
      "node j for element 1: 2\n",
      "theta (degree) for element 1: 0\n",
      "area of element 1: 0.002\n",
      "elastic modulus of element 1: 200000000\n",
      "length of element 1: 6\n",
      "k of element 1: 66666.66666666667\n",
      "\n",
      "\n",
      "node i for element 2: 2\n",
      "node j for element 2: 3\n",
      "theta (degree) for element 2: 0\n",
      "area of element 2: 0.002\n",
      "elastic modulus of element 2: 200000000\n",
      "length of element 2: 6\n",
      "k of element 2: 66666.66666666667\n",
      "\n",
      "\n",
      "node i for element 3: 1\n",
      "node j for element 3: 4\n",
      "theta (degree) for element 3: 33.69006753\n",
      "area of element 3: 0.002\n",
      "elastic modulus of element 3: 200000000\n",
      "length of element 3: 3.60555127546399\n",
      "k of element 3: 110940.0392450458\n",
      "\n",
      "\n",
      "node i for element 4: 2\n",
      "node j for element 4: 4\n",
      "theta (degree) for element 4: 146.30993247\n",
      "area of element 4: 0.002\n",
      "elastic modulus of element 4: 200000000\n",
      "length of element 4: 3.60555127546399\n",
      "k of element 4: 110940.0392450458\n",
      "\n",
      "\n",
      "node i for element 5: 2\n",
      "node j for element 5: 6\n",
      "theta (degree) for element 5: 90\n",
      "area of element 5: 0.002\n",
      "elastic modulus of element 5: 200000000\n",
      "length of element 5: 4\n",
      "k of element 5: 100000.0\n",
      "\n",
      "\n",
      "node i for element 6: 2\n",
      "node j for element 6: 5\n",
      "theta (degree) for element 6: 33.69006753\n",
      "area of element 6: 0.002\n",
      "elastic modulus of element 6: 200000000\n",
      "length of element 6: 3.60555128\n",
      "k of element 6: 110940.03910547627\n",
      "\n",
      "\n",
      "node i for element 7: 3\n",
      "node j for element 7: 5\n",
      "theta (degree) for element 7: 146.30993247\n",
      "area of element 7: 0.002\n",
      "elastic modulus of element 7: 200000000\n",
      "length of element 7: 3.60555128\n",
      "k of element 7: 110940.03910547627\n",
      "\n",
      "\n",
      "node i for element 8: 4\n",
      "node j for element 8: 6\n",
      "theta (degree) for element 8: 33.69006753\n",
      "area of element 8: 0.002\n",
      "elastic modulus of element 8: 200000000\n",
      "length of element 8: 3.60555128\n",
      "k of element 8: 110940.03910547627\n",
      "\n",
      "\n",
      "node i for element 9: 5\n",
      "node j for element 9: 6\n",
      "theta (degree) for element 9: 146.30993247\n",
      "area of element 9: 0.002\n",
      "elastic modulus of element 9: 200000000\n",
      "length of element 9: 3.60555128\n",
      "k of element 9: 110940.03910547627\n",
      "\n",
      "\n"
     ]
    }
   ],
   "source": [
    "# get info of each element from user\n",
    "\n",
    "element_list = []\n",
    "\n",
    "for n in range(n_element):\n",
    "  i = int(input(\"node i for element \" + str(n+1) + \": \" ))\n",
    "  j = int(input(\"node j for element \" + str(n+1) + \": \" ))\n",
    "  theta = float(input(\"theta (degree) for element \" + str(n+1) + \": \" ))\n",
    "  A = float(input(\"area of element \" + str(n+1) + \": \" ))\n",
    "  E = float(input(\"elastic modulus of element \" + str(n+1) + \": \" ))\n",
    "  l = float(input(\"length of element \" + str(n+1) + \": \" ))\n",
    "  k = A * E / l\n",
    "  print(\"k of element \" + str(n+1) + \": \" + str(k))\n",
    "\n",
    "  print(\"\\n\")\n",
    "  element_list.append({\"i\": i,\n",
    "                       \"j\": j,\n",
    "                       \"theta\": theta,\n",
    "                       \"area\": A,\n",
    "                       \"length\": l,\n",
    "                       \"modulus\": E,\n",
    "                       \"k\": k})"
   ]
  },
  {
   "cell_type": "code",
   "execution_count": 6,
   "metadata": {
    "colab": {
     "base_uri": "https://localhost:8080/"
    },
    "id": "iAFmQkiG-lD1",
    "outputId": "d9358ea1-8d39-4f6a-ffc0-6dc41d45a44d"
   },
   "outputs": [
    {
     "name": "stdout",
     "output_type": "stream",
     "text": [
      "[array([[ 66666.66666667,      0.        , -66666.66666667,\n",
      "            -0.        ],\n",
      "       [     0.        ,      0.        ,     -0.        ,\n",
      "            -0.        ],\n",
      "       [-66666.66666667,     -0.        ,  66666.66666667,\n",
      "             0.        ],\n",
      "       [    -0.        ,     -0.        ,      0.        ,\n",
      "             0.        ]]), array([[ 66666.66666667,      0.        , -66666.66666667,\n",
      "            -0.        ],\n",
      "       [     0.        ,      0.        ,     -0.        ,\n",
      "            -0.        ],\n",
      "       [-66666.66666667,     -0.        ,  66666.66666667,\n",
      "             0.        ],\n",
      "       [    -0.        ,     -0.        ,      0.        ,\n",
      "             0.        ]]), array([[ 76804.64254708,  51203.09503917, -76804.64254708,\n",
      "        -51203.09503917],\n",
      "       [ 51203.09503917,  34135.39669797, -51203.09503917,\n",
      "        -34135.39669797],\n",
      "       [-76804.64254708, -51203.09503917,  76804.64254708,\n",
      "         51203.09503917],\n",
      "       [-51203.09503917, -34135.39669797,  51203.09503917,\n",
      "         34135.39669797]]), array([[ 76804.64254708, -51203.09503917, -76804.64254708,\n",
      "         51203.09503917],\n",
      "       [-51203.09503917,  34135.39669797,  51203.09503917,\n",
      "        -34135.39669797],\n",
      "       [-76804.64254708,  51203.09503917,  76804.64254708,\n",
      "        -51203.09503917],\n",
      "       [ 51203.09503917, -34135.39669797, -51203.09503917,\n",
      "         34135.39669797]]), array([[ 3.74939946e-28,  6.12323400e-12, -3.74939946e-28,\n",
      "        -6.12323400e-12],\n",
      "       [ 6.12323400e-12,  1.00000000e+05, -6.12323400e-12,\n",
      "        -1.00000000e+05],\n",
      "       [-3.74939946e-28, -6.12323400e-12,  3.74939946e-28,\n",
      "         6.12323400e-12],\n",
      "       [-6.12323400e-12, -1.00000000e+05,  6.12323400e-12,\n",
      "         1.00000000e+05]]), array([[ 76804.64245045,  51203.09497475, -76804.64245045,\n",
      "        -51203.09497475],\n",
      "       [ 51203.09497475,  34135.39665502, -51203.09497475,\n",
      "        -34135.39665502],\n",
      "       [-76804.64245045, -51203.09497475,  76804.64245045,\n",
      "         51203.09497475],\n",
      "       [-51203.09497475, -34135.39665502,  51203.09497475,\n",
      "         34135.39665502]]), array([[ 76804.64245045, -51203.09497475, -76804.64245045,\n",
      "         51203.09497475],\n",
      "       [-51203.09497475,  34135.39665502,  51203.09497475,\n",
      "        -34135.39665502],\n",
      "       [-76804.64245045,  51203.09497475,  76804.64245045,\n",
      "        -51203.09497475],\n",
      "       [ 51203.09497475, -34135.39665502, -51203.09497475,\n",
      "         34135.39665502]]), array([[ 76804.64245045,  51203.09497475, -76804.64245045,\n",
      "        -51203.09497475],\n",
      "       [ 51203.09497475,  34135.39665502, -51203.09497475,\n",
      "        -34135.39665502],\n",
      "       [-76804.64245045, -51203.09497475,  76804.64245045,\n",
      "         51203.09497475],\n",
      "       [-51203.09497475, -34135.39665502,  51203.09497475,\n",
      "         34135.39665502]]), array([[ 76804.64245045, -51203.09497475, -76804.64245045,\n",
      "         51203.09497475],\n",
      "       [-51203.09497475,  34135.39665502,  51203.09497475,\n",
      "        -34135.39665502],\n",
      "       [-76804.64245045,  51203.09497475,  76804.64245045,\n",
      "        -51203.09497475],\n",
      "       [ 51203.09497475, -34135.39665502, -51203.09497475,\n",
      "         34135.39665502]])]\n"
     ]
    }
   ],
   "source": [
    "#create element matrix from each element\n",
    "\n",
    "matrix_list = []\n",
    "\n",
    "for n in range(n_element):\n",
    "  rad = element_list[n]['theta'] * pi / 180\n",
    "  rotation_matrix = gen_rotation_matrix(rad)\n",
    "  matrix = element_list[n]['k'] * rotation_matrix\n",
    "  matrix_list.append(matrix)\n",
    "\n",
    "print(matrix_list)"
   ]
  },
  {
   "cell_type": "code",
   "execution_count": 7,
   "metadata": {
    "colab": {
     "base_uri": "https://localhost:8080/"
    },
    "id": "LwHYGk1qb-N1",
    "outputId": "c32cf8cb-ab7b-4ff9-f6d5-ffbecd999c20"
   },
   "outputs": [
    {
     "name": "stdout",
     "output_type": "stream",
     "text": [
      "[[ 1.43471309e+05  5.12030950e+04 -6.66666667e+04  0.00000000e+00\n",
      "   0.00000000e+00  0.00000000e+00 -7.68046425e+04 -5.12030950e+04\n",
      "   0.00000000e+00  0.00000000e+00  0.00000000e+00  0.00000000e+00]\n",
      " [ 5.12030950e+04  3.41353967e+04  0.00000000e+00  0.00000000e+00\n",
      "   0.00000000e+00  0.00000000e+00 -5.12030950e+04 -3.41353967e+04\n",
      "   0.00000000e+00  0.00000000e+00  0.00000000e+00  0.00000000e+00]\n",
      " [-6.66666667e+04  0.00000000e+00  2.86942618e+05 -6.44166939e-05\n",
      "  -6.66666667e+04  0.00000000e+00 -7.68046425e+04  5.12030950e+04\n",
      "  -7.68046425e+04 -5.12030950e+04 -3.74939946e-28 -6.12323400e-12]\n",
      " [ 0.00000000e+00  0.00000000e+00 -6.44166939e-05  1.68270793e+05\n",
      "   0.00000000e+00  0.00000000e+00  5.12030950e+04 -3.41353967e+04\n",
      "  -5.12030950e+04 -3.41353967e+04 -6.12323400e-12 -1.00000000e+05]\n",
      " [ 0.00000000e+00  0.00000000e+00 -6.66666667e+04  0.00000000e+00\n",
      "   1.43471309e+05 -5.12030950e+04  0.00000000e+00  0.00000000e+00\n",
      "  -7.68046425e+04  5.12030950e+04  0.00000000e+00  0.00000000e+00]\n",
      " [ 0.00000000e+00  0.00000000e+00  0.00000000e+00  0.00000000e+00\n",
      "  -5.12030950e+04  3.41353967e+04  0.00000000e+00  0.00000000e+00\n",
      "   5.12030950e+04 -3.41353967e+04  0.00000000e+00  0.00000000e+00]\n",
      " [-7.68046425e+04 -5.12030950e+04 -7.68046425e+04  5.12030950e+04\n",
      "   0.00000000e+00  0.00000000e+00  2.30413928e+05  5.12030950e+04\n",
      "   0.00000000e+00  0.00000000e+00 -7.68046425e+04 -5.12030950e+04]\n",
      " [-5.12030950e+04 -3.41353967e+04  5.12030950e+04 -3.41353967e+04\n",
      "   0.00000000e+00  0.00000000e+00  5.12030950e+04  1.02406190e+05\n",
      "   0.00000000e+00  0.00000000e+00 -5.12030950e+04 -3.41353967e+04]\n",
      " [ 0.00000000e+00  0.00000000e+00 -7.68046425e+04 -5.12030950e+04\n",
      "  -7.68046425e+04  5.12030950e+04  0.00000000e+00  0.00000000e+00\n",
      "   2.30413927e+05 -5.12030950e+04 -7.68046425e+04  5.12030950e+04]\n",
      " [ 0.00000000e+00  0.00000000e+00 -5.12030950e+04 -3.41353967e+04\n",
      "   5.12030950e+04 -3.41353967e+04  0.00000000e+00  0.00000000e+00\n",
      "  -5.12030950e+04  1.02406190e+05  5.12030950e+04 -3.41353967e+04]\n",
      " [ 0.00000000e+00  0.00000000e+00 -3.74939946e-28 -6.12323400e-12\n",
      "   0.00000000e+00  0.00000000e+00 -7.68046425e+04 -5.12030950e+04\n",
      "  -7.68046425e+04  5.12030950e+04  1.53609285e+05  7.27595761e-12]\n",
      " [ 0.00000000e+00  0.00000000e+00 -6.12323400e-12 -1.00000000e+05\n",
      "   0.00000000e+00  0.00000000e+00 -5.12030950e+04 -3.41353967e+04\n",
      "   5.12030950e+04 -3.41353967e+04  7.27595761e-12  1.68270793e+05]]\n"
     ]
    }
   ],
   "source": [
    "#generate system matrix\n",
    "\n",
    "system_matrix = np.zeros((n_node * 2, n_node * 2))\n",
    "\n",
    "for n in range(n_element):\n",
    "  i = element_list[n]['i']\n",
    "  j = element_list[n]['j']\n",
    "  system_matrix[2*i-2][2*i-2] += matrix_list[n][0][0]\n",
    "  system_matrix[2*i-2][2*i-1] += matrix_list[n][0][1]\n",
    "  system_matrix[2*i-2][2*j-2] += matrix_list[n][0][2]\n",
    "  system_matrix[2*i-2][2*j-1] += matrix_list[n][0][3]\n",
    "  system_matrix[2*i-1][2*i-2] += matrix_list[n][1][0]\n",
    "  system_matrix[2*i-1][2*i-1] += matrix_list[n][1][1]\n",
    "  system_matrix[2*i-1][2*j-2] += matrix_list[n][1][2]\n",
    "  system_matrix[2*i-1][2*j-1] += matrix_list[n][1][3]\n",
    "  system_matrix[2*j-2][2*i-2] += matrix_list[n][2][0]\n",
    "  system_matrix[2*j-2][2*i-1] += matrix_list[n][2][1]\n",
    "  system_matrix[2*j-2][2*j-2] += matrix_list[n][2][2]\n",
    "  system_matrix[2*j-2][2*j-1] += matrix_list[n][2][3]\n",
    "  system_matrix[2*j-1][2*i-2] += matrix_list[n][3][0]\n",
    "  system_matrix[2*j-1][2*i-1] += matrix_list[n][3][1]\n",
    "  system_matrix[2*j-1][2*j-2] += matrix_list[n][3][2]\n",
    "  system_matrix[2*j-1][2*j-1] += matrix_list[n][3][3]\n",
    "\n",
    "print(system_matrix)"
   ]
  },
  {
   "cell_type": "code",
   "execution_count": 8,
   "metadata": {
    "colab": {
     "base_uri": "https://localhost:8080/"
    },
    "id": "V6fNZdoZfjcP",
    "outputId": "14c68b14-51ac-49b5-e330-6e822b2162a5"
   },
   "outputs": [
    {
     "name": "stdout",
     "output_type": "stream",
     "text": [
      "Please enter the condition boundary for each node, if none, please fill 'x'.\n",
      "\n",
      "Displacement in X of node 1: 0\n",
      "Displacement in Y of node 1: 0\n",
      "Displacement in X of node 2: x\n",
      "\tExternal force in X of node 2: 0\n",
      "Displacement in Y of node 2: x\n",
      "\tExternal force in Y of node 2: 0\n",
      "Displacement in X of node 3: 0\n",
      "Displacement in Y of node 3: 0\n",
      "Displacement in X of node 4: x\n",
      "\tExternal force in X of node 4: 0\n",
      "Displacement in Y of node 4: x\n",
      "\tExternal force in Y of node 4: -20\n",
      "Displacement in X of node 5: x\n",
      "\tExternal force in X of node 5: 0\n",
      "Displacement in Y of node 5: x\n",
      "\tExternal force in Y of node 5: -10\n",
      "Displacement in X of node 6: x\n",
      "\tExternal force in X of node 6: 0\n",
      "Displacement in Y of node 6: x\n",
      "\tExternal force in Y of node 6: -30\n"
     ]
    }
   ],
   "source": [
    "#create unknown matrix and apply condition boundaries\n",
    "#determine external force in nodes with unknown displacement\n",
    "\n",
    "unk_matrix = []\n",
    "externalforce_matrix = []\n",
    "print(\"Please enter the condition boundary for each node, if none, please fill 'x'.\\n\")\n",
    "\n",
    "for n in range(n_node):\n",
    "  unk_u = input(\"Displacement in X of node \" + str(n+1) + \": \")\n",
    "  try:\n",
    "    unk_u = float(unk_u)\n",
    "    externalforce_u = 'x'\n",
    "  except ValueError:\n",
    "    unk_u = unk_u\n",
    "    externalforce_u = float(input(\"\\tExternal force in X of node \" + str(n+1) + \": \"))\n",
    "\n",
    "  unk_v = input(\"Displacement in Y of node \" + str(n+1) + \": \")\n",
    "  try:\n",
    "    unk_v = float(unk_v)\n",
    "    externalforce_v = 'x'\n",
    "  except ValueError:\n",
    "    unk_v = unk_v\n",
    "    externalforce_v = float(input(\"\\tExternal force in Y of node \" + str(n+1) + \": \"))\n",
    "\n",
    "  unk_matrix.append(unk_u)\n",
    "  unk_matrix.append(unk_v)\n",
    "  externalforce_matrix.append(externalforce_u)\n",
    "  externalforce_matrix.append(externalforce_v)"
   ]
  },
  {
   "cell_type": "code",
   "execution_count": 9,
   "metadata": {
    "colab": {
     "base_uri": "https://localhost:8080/"
    },
    "id": "FnPCaa-ZssSP",
    "outputId": "9ff553ec-20de-4b72-ee52-daa3cae85bc9"
   },
   "outputs": [
    {
     "name": "stdout",
     "output_type": "stream",
     "text": [
      "[0.0, 0.0, 'x', 'x', 0.0, 0.0, 'x', 'x', 'x', 'x', 'x', 'x']\n",
      "['x', 'x', 0.0, 0.0, 'x', 'x', 0.0, -20.0, 0.0, -10.0, 0.0, -30.0]\n",
      "\n",
      "Row and column to be removed:  [0, 1, 4, 5]\n",
      "Unknown displacement to be solved:  [2, 3, 6, 7, 8, 9, 10, 11]\n"
     ]
    }
   ],
   "source": [
    "#check unknown displacement and external forces matrix\n",
    "\n",
    "print(unk_matrix)\n",
    "print(externalforce_matrix)\n",
    "\n",
    "remove_row_list = []\n",
    "enter_externalforce_list = []\n",
    "\n",
    "for n in range(2 * n_node):\n",
    "  if type(unk_matrix[n]) == float:\n",
    "    remove_row_list.append(n)\n",
    "  else:\n",
    "    enter_externalforce_list.append(n)\n",
    "\n",
    "print(\"\\nRow and column to be removed: \", remove_row_list)\n",
    "print(\"Unknown displacement to be solved: \", enter_externalforce_list)"
   ]
  },
  {
   "cell_type": "code",
   "execution_count": 10,
   "metadata": {
    "colab": {
     "base_uri": "https://localhost:8080/"
    },
    "id": "BpehbMxVt3BR",
    "outputId": "a1fe702e-4033-4ebf-ebc1-0f0cf0f7560a"
   },
   "outputs": [
    {
     "name": "stdout",
     "output_type": "stream",
     "text": [
      "Adjusted coefficient matrix: \n",
      " [[ 2.86942618e+05 -6.44166939e-05 -7.68046425e+04  5.12030950e+04\n",
      "  -7.68046425e+04 -5.12030950e+04 -3.74939946e-28 -6.12323400e-12]\n",
      " [-6.44166939e-05  1.68270793e+05  5.12030950e+04 -3.41353967e+04\n",
      "  -5.12030950e+04 -3.41353967e+04 -6.12323400e-12 -1.00000000e+05]\n",
      " [-7.68046425e+04  5.12030950e+04  2.30413928e+05  5.12030950e+04\n",
      "   0.00000000e+00  0.00000000e+00 -7.68046425e+04 -5.12030950e+04]\n",
      " [ 5.12030950e+04 -3.41353967e+04  5.12030950e+04  1.02406190e+05\n",
      "   0.00000000e+00  0.00000000e+00 -5.12030950e+04 -3.41353967e+04]\n",
      " [-7.68046425e+04 -5.12030950e+04  0.00000000e+00  0.00000000e+00\n",
      "   2.30413927e+05 -5.12030950e+04 -7.68046425e+04  5.12030950e+04]\n",
      " [-5.12030950e+04 -3.41353967e+04  0.00000000e+00  0.00000000e+00\n",
      "  -5.12030950e+04  1.02406190e+05  5.12030950e+04 -3.41353967e+04]\n",
      " [-3.74939946e-28 -6.12323400e-12 -7.68046425e+04 -5.12030950e+04\n",
      "  -7.68046425e+04  5.12030950e+04  1.53609285e+05  7.27595761e-12]\n",
      " [-6.12323400e-12 -1.00000000e+05 -5.12030950e+04 -3.41353967e+04\n",
      "   5.12030950e+04 -3.41353967e+04  7.27595761e-12  1.68270793e+05]]\n",
      "\n",
      "Matrix dimension: \n",
      " (8, 8)\n",
      "\n",
      "\n",
      "Adjusted external force matrix: \n",
      " [[  0.]\n",
      " [  0.]\n",
      " [  0.]\n",
      " [-20.]\n",
      " [  0.]\n",
      " [-10.]\n",
      " [  0.]\n",
      " [-30.]]\n",
      "\n",
      "Matrix dimension: \n",
      " (8, 1)\n"
     ]
    }
   ],
   "source": [
    "#matrix adjustment\n",
    "\n",
    "calc_externalforce_matrix = externalforce_matrix.copy()\n",
    "\n",
    "for i in remove_row_list:\n",
    "  for n in enter_externalforce_list:\n",
    "    \"\"\" for debug with case that condition boundaries are not equal to 0 \n",
    "    print(str(i) + \" \" + str(n))\n",
    "    print(calc_externalforce_matrix[n])\n",
    "    print(system_matrix[n][i])\n",
    "    print(unk_matrix[i])\n",
    "    print(\"\\n\")\n",
    "    \"\"\"\n",
    "    calc_externalforce_matrix[n] -= system_matrix[n][i] * unk_matrix[i]\n",
    "  \n",
    "calc_matrix = np.delete(system_matrix, remove_row_list, axis = 0)\n",
    "calc_matrix = np.delete(calc_matrix, remove_row_list, axis = 1)\n",
    "print(\"Adjusted coefficient matrix: \\n\", calc_matrix)\n",
    "print(\"\\nMatrix dimension: \\n\", calc_matrix.shape)\n",
    "\n",
    "\n",
    "calc_externalforce_matrix = np.delete(calc_externalforce_matrix, remove_row_list, axis = 0)\n",
    "calc_externalforce_matrix = calc_externalforce_matrix.astype('f')\n",
    "calc_externalforce_matrix = np.reshape(calc_externalforce_matrix, (1, len(enter_externalforce_list)))\n",
    "calc_externalforce_matrix = np.transpose(calc_externalforce_matrix)\n",
    "print(\"\\n\\nAdjusted external force matrix: \\n\", calc_externalforce_matrix)\n",
    "print(\"\\nMatrix dimension: \\n\", calc_externalforce_matrix.shape)\n"
   ]
  },
  {
   "cell_type": "code",
   "execution_count": 11,
   "metadata": {
    "colab": {
     "base_uri": "https://localhost:8080/"
    },
    "id": "cf6o9K7n5Ixl",
    "outputId": "9391b716-db16-4819-8e73-c2e9bb269c09"
   },
   "outputs": [
    {
     "name": "stdout",
     "output_type": "stream",
     "text": [
      "[[ 5.62500000e-05]\n",
      " [-1.68799297e-03]\n",
      " [ 3.71076042e-04]\n",
      " [-1.50870495e-03]\n",
      " [-3.14826041e-04]\n",
      " [-1.27785443e-03]\n",
      " [-4.88251732e-05]\n",
      " [-1.53799297e-03]]\n",
      "\n",
      "\n",
      "u2 = 5.624999999144864e-05\n",
      "v2 = -0.0016879929669523625\n",
      "u4 = 0.0003710760415629782\n",
      "v4 = -0.0015087049457366448\n",
      "u5 = -0.0003148260412951163\n",
      "v5 = -0.0012778544258263023\n",
      "u6 = -4.882517318121514e-05\n",
      "v6 = -0.001537992966952362\n"
     ]
    }
   ],
   "source": [
    "#Solve equation for unknown displacement\n",
    "\n",
    "displacement_sol = np.linalg.solve(calc_matrix, calc_externalforce_matrix)\n",
    "print(displacement_sol)\n",
    "print(\"\\n\")\n",
    "i = 0\n",
    "\n",
    "for n in enter_externalforce_list:\n",
    "  if (n+1) % 2 == 1:\n",
    "    print(\"u\" + str(int((n+1)/2)+1) + \" = \" + str(displacement_sol[i][0]))\n",
    "    i += 1\n",
    "  if (n+1) % 2 == 0:\n",
    "    print(\"v\" + str(int((n+1)/2)) + \" = \" + str(displacement_sol[i][0]))\n",
    "    i += 1"
   ]
  },
  {
   "cell_type": "code",
   "execution_count": 12,
   "metadata": {
    "colab": {
     "base_uri": "https://localhost:8080/"
    },
    "id": "qHYlAcmvLsi_",
    "outputId": "4d452218-acd9-408c-d327-1fc9bd5a11e1"
   },
   "outputs": [
    {
     "name": "stdout",
     "output_type": "stream",
     "text": [
      "[[ 4.50000000e+01]\n",
      " [ 3.25000000e+01]\n",
      " [ 7.10542736e-15]\n",
      " [-7.10542736e-15]\n",
      " [-4.50000000e+01]\n",
      " [ 2.75000000e+01]\n",
      " [ 2.84217094e-14]\n",
      " [-2.00000000e+01]\n",
      " [ 0.00000000e+00]\n",
      " [-1.00000000e+01]\n",
      " [-2.13162821e-14]\n",
      " [-3.00000000e+01]]\n",
      "\n",
      "\n",
      "Fu1 = 44.99999999315884\n",
      "Fv1 = 32.500000000000014\n",
      "Fu2 = 7.105427357601002e-15\n",
      "Fv2 = -7.105427357601002e-15\n",
      "Fu3 = -44.999999993158866\n",
      "Fv3 = 27.499999999999993\n",
      "Fu4 = 2.842170943040401e-14\n",
      "Fv4 = -19.99999999999999\n",
      "Fu5 = 0.0\n",
      "Fv5 = -10.0\n",
      "Fu6 = -2.1316282072803006e-14\n",
      "Fv6 = -29.99999999999998\n"
     ]
    }
   ],
   "source": [
    "#Calculate for remaining unknown external forces\n",
    "\n",
    "known_displacement = unk_matrix.copy()\n",
    "i = 0\n",
    "\n",
    "for n in range(len(known_displacement)):\n",
    "  if type(known_displacement[n]) != float:\n",
    "    known_displacement[n] = displacement_sol[i][0]\n",
    "    i += 1\n",
    "\n",
    "known_displacement = np.reshape(known_displacement, (n_node * 2, 1))\n",
    "#print(known_displacement)\n",
    "\n",
    "external_forces = np.matmul(system_matrix, known_displacement)\n",
    "print(external_forces)\n",
    "print(\"\\n\")\n",
    "\n",
    "i = 0\n",
    "\n",
    "for n in range(n_node * 2):\n",
    "  if (n+1) % 2 == 1:\n",
    "    print(\"Fu\" + str(int((n+1)/2)+1) + \" = \" + str(external_forces[i][0]))\n",
    "    i += 1\n",
    "  if (n+1) % 2 == 0:\n",
    "    print(\"Fv\" + str(int((n+1)/2)) + \" = \" + str(external_forces[i][0]))\n",
    "    i += 1"
   ]
  },
  {
   "cell_type": "code",
   "execution_count": 15,
   "metadata": {
    "colab": {
     "base_uri": "https://localhost:8080/"
    },
    "id": "zFRZmru8wHsK",
    "outputId": "e9e815c0-8993-435d-e14e-a38e9ef32c7f"
   },
   "outputs": [
    {
     "name": "stdout",
     "output_type": "stream",
     "text": [
      "Displacement in local coordinate in element 1: 0.0, 5.624999999144864e-05\n",
      "Stress in element 1: 1874.9999997149546\n",
      "\n",
      "\n",
      "Displacement in local coordinate in element 2: 5.624999999144864e-05, 0.0\n",
      "Stress in element 2: -1874.9999997149546\n",
      "\n",
      "\n",
      "Displacement in local coordinate in element 3: 0.0, -0.0005281249999444158\n",
      "Stress in element 3: -29295.10411006165\n",
      "\n",
      "\n",
      "Displacement in local coordinate in element 4: -0.0009831328591410286, -0.001145632859123926\n",
      "Stress in element 4: -9013.878187711292\n",
      "\n",
      "\n",
      "Displacement in local coordinate in element 5: -0.0016879929669523625, -0.001537992966952362\n",
      "Stress in element 5: 7500.000000000031\n",
      "\n",
      "\n",
      "Displacement in local coordinate in element 6: -0.0008895272010466306, -0.0009707772011402967\n",
      "Stress in element 6: -4506.939093855635\n",
      "\n",
      "\n",
      "Displacement in local coordinate in element 7: 0.0, -0.0004468750005151639\n",
      "Stress in element 7: -24788.165016206007\n",
      "\n",
      "\n",
      "Displacement in local coordinate in element 8: -0.0005281249999444158, -0.0008937500003659138\n",
      "Stress in element 8: -20281.225922350382\n",
      "\n",
      "\n",
      "Displacement in local coordinate in element 9: -0.0004468750005151639, -0.0008125000009366616\n",
      "Stress in element 9: -20281.22592235037\n",
      "\n",
      "\n"
     ]
    }
   ],
   "source": [
    "#calculate displacement in local coordinate and stress in each element\n",
    "\n",
    "for i in range(n_element):\n",
    "  node1 = element_list[i][\"i\"]\n",
    "  node2 = element_list[i][\"j\"]\n",
    "  rad = element_list[i][\"theta\"] * pi / 180\n",
    "  u1 = cos(rad) * known_displacement[node1 * 2 - 2][0] + sin(rad) * known_displacement[node1 * 2 - 1][0]\n",
    "  u2 = cos(rad) * known_displacement[node2 * 2 - 2][0] + sin(rad) * known_displacement[node2 * 2 - 1][0]\n",
    "  print(\"Displacement in local coordinate in element \" + str(i+1) + \": \" + str(u1) + \", \" + str(u2))\n",
    "  stress = element_list[i][\"modulus\"] / element_list[i][\"length\"] * (u2-u1)\n",
    "  print(\"Stress in element \" + str(i+1) + \": \" + str(stress))\n",
    "  print(\"\\n\")"
   ]
  },
  {
   "cell_type": "code",
   "execution_count": 43,
   "metadata": {
    "colab": {
     "base_uri": "https://localhost:8080/"
    },
    "id": "PV2okO2kMiI-",
    "outputId": "bc05b26b-4fdf-4a23-e2be-bd4313749993"
   },
   "outputs": [
    {
     "name": "stdout",
     "output_type": "stream",
     "text": [
      "[[ 386602.54037844 -150000.        ]\n",
      " [-150000.          359807.62113533]]\n",
      "[800 400]\n",
      "[0.00298318 0.00235536]\n"
     ]
    }
   ],
   "source": [
    "#matrix solver calculator\n",
    "\n",
    "matrixA = np.array([[386602.540378444, -150000],\n",
    "           [-150000, 359807.621135332]])\n",
    "matrixB = np.array([800, 400])\n",
    "sol = np.linalg.solve(matrixA, matrixB)\n",
    "print(matrixA)\n",
    "print(matrixB)\n",
    "print(sol)"
   ]
  },
  {
   "cell_type": "code",
   "execution_count": null,
   "metadata": {
    "id": "5Q4xMU138q8N"
   },
   "outputs": [],
   "source": []
  }
 ],
 "metadata": {
  "colab": {
   "provenance": []
  },
  "kernelspec": {
   "display_name": "Python 3 (ipykernel)",
   "language": "python",
   "name": "python3"
  },
  "language_info": {
   "codemirror_mode": {
    "name": "ipython",
    "version": 3
   },
   "file_extension": ".py",
   "mimetype": "text/x-python",
   "name": "python",
   "nbconvert_exporter": "python",
   "pygments_lexer": "ipython3",
   "version": "3.9.13"
  }
 },
 "nbformat": 4,
 "nbformat_minor": 1
}
